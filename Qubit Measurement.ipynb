{
 "cells": [
  {
   "cell_type": "code",
   "execution_count": 90,
   "metadata": {},
   "outputs": [
    {
     "ename": "NameError",
     "evalue": "name 'pandas' is not defined",
     "output_type": "error",
     "traceback": [
      "\u001b[1;31m---------------------------------------------------------------------------\u001b[0m",
      "\u001b[1;31mNameError\u001b[0m                                 Traceback (most recent call last)",
      "\u001b[1;32m<ipython-input-90-e19cb23cafe1>\u001b[0m in \u001b[0;36m<module>\u001b[1;34m\u001b[0m\n\u001b[0;32m     30\u001b[0m     }\n\u001b[0;32m     31\u001b[0m \u001b[1;33m\u001b[0m\u001b[0m\n\u001b[1;32m---> 32\u001b[1;33m \u001b[0mpandas\u001b[0m\u001b[1;33m.\u001b[0m\u001b[0mpd\u001b[0m\u001b[1;33m\u001b[0m\u001b[1;33m\u001b[0m\u001b[0m\n\u001b[0m\u001b[0;32m     33\u001b[0m \u001b[1;33m\u001b[0m\u001b[0m\n\u001b[0;32m     34\u001b[0m \u001b[0malazar\u001b[0m \u001b[1;33m=\u001b[0m \u001b[0mAlazarTech\u001b[0m\u001b[1;33m(\u001b[0m\u001b[0madc_param_CryoRX\u001b[0m\u001b[1;33m)\u001b[0m\u001b[1;33m\u001b[0m\u001b[1;33m\u001b[0m\u001b[0m\n",
      "\u001b[1;31mNameError\u001b[0m: name 'pandas' is not defined"
     ]
    }
   ],
   "source": [
    "import numpy as np\n",
    "import qcodes\n",
    "import matplotlib.pyplot as plt\n",
    "from functools import partial    \n",
    "from  qcodes.plots.qcmatplotlib import MatPlot\n",
    "from  qcodes.plots.pyqtgraph import QtPlot\n",
    "from scipy.optimize import curve_fit\n",
    "import scipy.integrate as integrate\n",
    "import pandas as pd\n",
    "\n",
    "\n",
    "class AlazarTech():\n",
    "    def __init__(self,param):\n",
    "        self.name = param.get('name')\n",
    "        self.fs = param.get('sampling_rate')\n",
    "        self.ts = 1/self.fs\n",
    "        self.record_length = param.get('record_length')\n",
    "        self.channel_range = param.get('channel_range')\n",
    "        \n",
    "    def alazar_bit2volt(self, signal):\n",
    "        return ()\n",
    "    \n",
    "    \n",
    "    \n",
    "adc_param_CryoRX = {\n",
    "    \"name\" : 'CryoRX', # For setting ...\n",
    "    \"sampling_rate\" : 1e9, # samples/s\n",
    "    \"record_length\" : 0.002, # in (s)\n",
    "    \"channel_range\" : 0.1 # in (v)\n",
    "    }\n",
    "\n",
    "pandas.pd\n",
    "\n",
    "alazar = AlazarTech(adc_param_CryoRX)\n",
    "alazar.name\n",
    "    \n"
   ]
  }
 ],
 "metadata": {
  "kernelspec": {
   "display_name": "Python 3",
   "language": "python",
   "name": "python3"
  },
  "language_info": {
   "codemirror_mode": {
    "name": "ipython",
    "version": 3
   },
   "file_extension": ".py",
   "mimetype": "text/x-python",
   "name": "python",
   "nbconvert_exporter": "python",
   "pygments_lexer": "ipython3",
   "version": "3.7.3"
  }
 },
 "nbformat": 4,
 "nbformat_minor": 4
}
